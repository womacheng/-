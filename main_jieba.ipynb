{
 "cells": [
  {
   "cell_type": "markdown",
   "id": "f629c4b3-fff3-48d7-a591-f155f0b54c2d",
   "metadata": {},
   "source": [
    "# 结巴分词实践"
   ]
  },
  {
   "cell_type": "markdown",
   "id": "d6cdba20-1879-4c6d-ba85-5495b5103281",
   "metadata": {},
   "source": [
    "# 结巴分词的三种模式"
   ]
  },
  {
   "cell_type": "markdown",
   "id": "78fda6c9-608b-4ac4-b608-dd625eabe8ea",
   "metadata": {},
   "source": [
    "# 全模式"
   ]
  },
  {
   "cell_type": "code",
   "execution_count": 19,
   "id": "55dbeaa1-e504-447d-83ce-2a4eb49e15b6",
   "metadata": {},
   "outputs": [
    {
     "name": "stdout",
     "output_type": "stream",
     "text": [
      "Full Mode: 我/ 来到/ 北京/ 清华/ 清华大学/ 华大/ 大学\n"
     ]
    }
   ],
   "source": [
    "import jieba\n",
    "import jieba.analyse\n",
    "seg_list = jieba.cut(\"我来到北京清华大学\", cut_all=True)\n",
    "print(\"Full Mode: \" + \"/ \".join(seg_list)) "
   ]
  },
  {
   "cell_type": "markdown",
   "id": "9f726e95-d679-457e-8686-5ecb1dd449ad",
   "metadata": {},
   "source": [
    "# 精确模式"
   ]
  },
  {
   "cell_type": "code",
   "execution_count": 14,
   "id": "e476ca93-5eec-492b-b906-0e35a18dcca5",
   "metadata": {},
   "outputs": [
    {
     "name": "stdout",
     "output_type": "stream",
     "text": [
      "Default Mode: 我/ 来到/ 北京/ 清华大学\n"
     ]
    }
   ],
   "source": [
    "seg_list = jieba.cut(\"我来到北京清华大学\", cut_all=False)\n",
    "print(\"Default Mode: \" + \"/ \".join(seg_list))  # 精确模式"
   ]
  },
  {
   "cell_type": "markdown",
   "id": "39c52fcf-6260-4265-b3e2-8a4be9543fec",
   "metadata": {},
   "source": [
    "# 搜索引擎模式"
   ]
  },
  {
   "cell_type": "code",
   "execution_count": 15,
   "id": "fac15809-01c3-40b4-a5b5-124e53368884",
   "metadata": {},
   "outputs": [
    {
     "name": "stdout",
     "output_type": "stream",
     "text": [
      "小明, 硕士, 毕业, 于, 中国, 科学, 学院, 科学院, 中国科学院, 计算, 计算所, ，, 后, 在, 日本, 京都, 大学, 日本京都大学, 深造\n"
     ]
    }
   ],
   "source": [
    "seg_list = jieba.cut_for_search(\"小明硕士毕业于中国科学院计算所，后在日本京都大学深造\")  # 搜索引擎模式\n",
    "print(\", \".join(seg_list))"
   ]
  },
  {
   "cell_type": "markdown",
   "id": "f1f77703-5b48-4f47-a013-3874112c1aa2",
   "metadata": {},
   "source": [
    "# 载入词典"
   ]
  },
  {
   "cell_type": "code",
   "execution_count": 21,
   "id": "0e7a3f00-1e46-4d70-a2ba-1186dbf2e352",
   "metadata": {},
   "outputs": [
    {
     "name": "stdout",
     "output_type": "stream",
     "text": [
      "自定义词典分词结果：马成/即将/是/自然语言处理/方面/的/高手/。\n"
     ]
    }
   ],
   "source": [
    "jieba.load_userdict(\"userdict.txt\")\n",
    "sentence = \"马成即将是自然语言处理方面的高手。\"\n",
    "seg_list = jieba.cut(sentence, cut_all=False, HMM=False)\n",
    "print(\"自定义词典分词结果：\" + \"/\".join(seg_list))"
   ]
  },
  {
   "cell_type": "markdown",
   "id": "26e9cb78-f9a5-4973-ac19-01fc6b9238ab",
   "metadata": {},
   "source": [
    "# 关键词提取"
   ]
  },
  {
   "cell_type": "code",
   "execution_count": 6,
   "id": "a6c27d7f-afca-442d-b56c-164fd069e7a9",
   "metadata": {},
   "outputs": [
    {
     "name": "stdout",
     "output_type": "stream",
     "text": [
      "重点 1.0\n",
      "大学 0.9635631335578456\n",
      "国家 0.9273412563201143\n",
      "河北省 0.6235965850264276\n",
      "共建 0.5433775103953393\n"
     ]
    }
   ],
   "source": [
    "import jieba.analyse\n",
    "s = \"燕山大学是河北省人民政府、教育部、工业和信息化部、国家国防科技工业局四方共建的全国重点大学，河北省重点支持的国家一流大学和世界一流学科建设高校，北京高科大学联盟成员。\"\n",
    "for x, w in jieba.analyse.textrank(s, withWeight=True, topK=5):\n",
    "    print('%s %s' % (x, w))"
   ]
  },
  {
   "cell_type": "code",
   "execution_count": null,
   "id": "0945d477-3fcd-423e-bef2-aff12aef9d82",
   "metadata": {},
   "outputs": [],
   "source": []
  }
 ],
 "metadata": {
  "kernelspec": {
   "display_name": "Python 3 (ipykernel)",
   "language": "python",
   "name": "python3"
  },
  "language_info": {
   "codemirror_mode": {
    "name": "ipython",
    "version": 3
   },
   "file_extension": ".py",
   "mimetype": "text/x-python",
   "name": "python",
   "nbconvert_exporter": "python",
   "pygments_lexer": "ipython3",
   "version": "3.9.21"
  }
 },
 "nbformat": 4,
 "nbformat_minor": 5
}
